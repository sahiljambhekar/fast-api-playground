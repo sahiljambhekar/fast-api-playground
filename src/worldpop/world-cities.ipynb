{
    "cells": [
        {
            "cell_type": "code",
            "execution_count": 1,
            "metadata": {},
            "outputs": [],
            "source": [
                "import pandas as pd\n",
                "import numpy as np"
            ]
        },
        {
            "cell_type": "code",
            "execution_count": 4,
            "metadata": {},
            "outputs": [
                {
                    "name": "stderr",
                    "output_type": "stream",
                    "text": [
                        "/var/folders/1x/k0shl5v96p77c63jw7cl3xqm0000gn/T/ipykernel_29679/1030460779.py:1: DtypeWarning: Columns (3) have mixed types. Specify dtype option on import or set low_memory=False.\n",
                        "  world_pop_df = pd.read_csv(\"../data/worldcitiespop.csv\")\n"
                    ]
                }
            ],
            "source": [
                "world_pop_df = pd.read_csv(\"../data/worldcitiespop.csv\")"
            ]
        },
        {
            "cell_type": "code",
            "execution_count": 9,
            "metadata": {},
            "outputs": [
                {
                    "data": {
                        "text/plain": [
                            "array(['ad', 'ae', 'af', 'ag', 'ai', 'al', 'am', 'an', 'ao', 'ar', 'at',\n",
                            "       'au', 'aw', 'az', 'ba', 'bb', 'bd', 'be', 'bf', 'bg', 'bh', 'bi',\n",
                            "       'bj', 'bm', 'bn', 'bo', 'br', 'bs', 'bt', 'bw', 'by', 'bz', 'ca',\n",
                            "       'cc', 'cd', 'cf', 'cg', 'ch', 'ci', 'ck', 'cl', 'cm', 'cn', 'co',\n",
                            "       'cr', 'cu', 'cv', 'cx', 'cy', 'cz', 'de', 'dj', 'dk', 'dm', 'do',\n",
                            "       'dz', 'ec', 'ee', 'eg', 'eh', 'er', 'es', 'et', 'fi', 'fj', 'fk',\n",
                            "       'fm', 'fo', 'fr', 'ga', 'gb', 'gd', 'ge', 'gf', 'gg', 'gh', 'gi',\n",
                            "       'gl', 'gm', 'gn', 'gp', 'gq', 'gr', 'gs', 'gt', 'gw', 'gy', 'hk',\n",
                            "       'hn', 'hr', 'ht', 'hu', 'id', 'ie', 'il', 'im', 'in', 'iq', 'ir',\n",
                            "       'is', 'it', 'je', 'jm', 'jo', 'jp', 'ke', 'kg', 'kh', 'ki', 'km',\n",
                            "       'kn', 'kp', 'kr', 'kw', 'ky', 'kz', 'la', 'lb', 'lc', 'li', 'lk',\n",
                            "       'lr', 'ls', 'lt', 'lu', 'lv', 'ly', 'ma', 'mc', 'md', 'me', 'mg',\n",
                            "       'mh', 'mk', 'ml', 'mm', 'mn', 'mo', 'mp', 'mq', 'mr', 'ms', 'mt',\n",
                            "       'mu', 'mv', 'mw', 'mx', 'my', 'mz', 'na', 'nc', 'ne', 'nf', 'ng',\n",
                            "       'ni', 'nl', 'no', 'np', 'nr', 'nu', 'nz', 'om', 'pa', 'pe', 'pf',\n",
                            "       'pg', 'ph', 'pk', 'pl', 'pm', 'pn', 'ps', 'pt', 'pw', 'py', 'qa',\n",
                            "       're', 'ro', 'rs', 'ru', 'rw', 'sa', 'sb', 'sc', 'sd', 'se', 'sg',\n",
                            "       'sh', 'si', 'sj', 'sk', 'sl', 'sm', 'sn', 'so', 'sr', 'st', 'sv',\n",
                            "       'sy', 'sz', 'tc', 'td', 'tf', 'tg', 'th', 'tj', 'tk', 'tm', 'tn',\n",
                            "       'to', 'tr', 'tt', 'tv', 'tw', 'tz', 'ua', 'ug', 'us', 'uy', 'uz',\n",
                            "       'vc', 've', 'vg', 'vi', 'vn', 'vu', 'wf', 'ws', 'ye', 'yt', 'za',\n",
                            "       'zm', 'zr', 'zw'], dtype=object)"
                        ]
                    },
                    "execution_count": 9,
                    "metadata": {},
                    "output_type": "execute_result"
                }
            ],
            "source": [
                "world_pop_df[\"Country\"].unique()"
            ]
        },
        {
            "cell_type": "code",
            "execution_count": 20,
            "metadata": {},
            "outputs": [],
            "source": [
                "us_cities_df = world_pop_df[world_pop_df[\"Country\"] == \"us\"]"
            ]
        },
        {
            "cell_type": "code",
            "execution_count": 21,
            "metadata": {},
            "outputs": [
                {
                    "data": {
                        "text/html": [
                            "<div>\n",
                            "<style scoped>\n",
                            "    .dataframe tbody tr th:only-of-type {\n",
                            "        vertical-align: middle;\n",
                            "    }\n",
                            "\n",
                            "    .dataframe tbody tr th {\n",
                            "        vertical-align: top;\n",
                            "    }\n",
                            "\n",
                            "    .dataframe thead th {\n",
                            "        text-align: right;\n",
                            "    }\n",
                            "</style>\n",
                            "<table border=\"1\" class=\"dataframe\">\n",
                            "  <thead>\n",
                            "    <tr style=\"text-align: right;\">\n",
                            "      <th></th>\n",
                            "      <th>Country</th>\n",
                            "      <th>City</th>\n",
                            "      <th>AccentCity</th>\n",
                            "      <th>Region</th>\n",
                            "      <th>Population</th>\n",
                            "      <th>Latitude</th>\n",
                            "      <th>Longitude</th>\n",
                            "    </tr>\n",
                            "  </thead>\n",
                            "  <tbody>\n",
                            "    <tr>\n",
                            "      <th>2907718</th>\n",
                            "      <td>us</td>\n",
                            "      <td>abanda</td>\n",
                            "      <td>Abanda</td>\n",
                            "      <td>AL</td>\n",
                            "      <td>NaN</td>\n",
                            "      <td>33.100833</td>\n",
                            "      <td>-85.529722</td>\n",
                            "    </tr>\n",
                            "    <tr>\n",
                            "      <th>2907719</th>\n",
                            "      <td>us</td>\n",
                            "      <td>abbeville</td>\n",
                            "      <td>Abbeville</td>\n",
                            "      <td>AL</td>\n",
                            "      <td>NaN</td>\n",
                            "      <td>31.571667</td>\n",
                            "      <td>-85.250556</td>\n",
                            "    </tr>\n",
                            "    <tr>\n",
                            "      <th>2907720</th>\n",
                            "      <td>us</td>\n",
                            "      <td>abbot springs</td>\n",
                            "      <td>Abbot Springs</td>\n",
                            "      <td>AL</td>\n",
                            "      <td>NaN</td>\n",
                            "      <td>33.360833</td>\n",
                            "      <td>-86.481667</td>\n",
                            "    </tr>\n",
                            "  </tbody>\n",
                            "</table>\n",
                            "</div>"
                        ],
                        "text/plain": [
                            "        Country           City     AccentCity Region  Population   Latitude  \\\n",
                            "2907718      us         abanda         Abanda     AL         NaN  33.100833   \n",
                            "2907719      us      abbeville      Abbeville     AL         NaN  31.571667   \n",
                            "2907720      us  abbot springs  Abbot Springs     AL         NaN  33.360833   \n",
                            "\n",
                            "         Longitude  \n",
                            "2907718 -85.529722  \n",
                            "2907719 -85.250556  \n",
                            "2907720 -86.481667  "
                        ]
                    },
                    "execution_count": 21,
                    "metadata": {},
                    "output_type": "execute_result"
                }
            ],
            "source": [
                "us_cities_df[:3]"
            ]
        },
        {
            "cell_type": "code",
            "execution_count": 22,
            "metadata": {},
            "outputs": [
                {
                    "data": {
                        "text/plain": [
                            "(np.int64(137814), np.int64(4175))"
                        ]
                    },
                    "execution_count": 22,
                    "metadata": {},
                    "output_type": "execute_result"
                }
            ],
            "source": [
                "# Count Number of Cities with NaN Population v/s Non-NaN Population\n",
                "us_cities_df[\"Population\"].isnull().sum(), us_cities_df[\"Population\"].notnull().sum()"
            ]
        },
        {
            "cell_type": "code",
            "execution_count": 2,
            "metadata": {},
            "outputs": [],
            "source": [
                "us_cities_df = pd.read_csv(\"../data/us_cities.csv\")"
            ]
        },
        {
            "cell_type": "code",
            "execution_count": 5,
            "metadata": {},
            "outputs": [
                {
                    "data": {
                        "text/html": [
                            "<div>\n",
                            "<style scoped>\n",
                            "    .dataframe tbody tr th:only-of-type {\n",
                            "        vertical-align: middle;\n",
                            "    }\n",
                            "\n",
                            "    .dataframe tbody tr th {\n",
                            "        vertical-align: top;\n",
                            "    }\n",
                            "\n",
                            "    .dataframe thead th {\n",
                            "        text-align: right;\n",
                            "    }\n",
                            "</style>\n",
                            "<table border=\"1\" class=\"dataframe\">\n",
                            "  <thead>\n",
                            "    <tr style=\"text-align: right;\">\n",
                            "      <th></th>\n",
                            "      <th>City</th>\n",
                            "      <th>AccentCity</th>\n",
                            "      <th>Region</th>\n",
                            "      <th>Population</th>\n",
                            "    </tr>\n",
                            "  </thead>\n",
                            "  <tbody>\n",
                            "    <tr>\n",
                            "      <th>0</th>\n",
                            "      <td>abanda</td>\n",
                            "      <td>Abanda</td>\n",
                            "      <td>AL</td>\n",
                            "      <td>NaN</td>\n",
                            "    </tr>\n",
                            "    <tr>\n",
                            "      <th>1</th>\n",
                            "      <td>abbeville</td>\n",
                            "      <td>Abbeville</td>\n",
                            "      <td>AL</td>\n",
                            "      <td>NaN</td>\n",
                            "    </tr>\n",
                            "    <tr>\n",
                            "      <th>2</th>\n",
                            "      <td>abbot springs</td>\n",
                            "      <td>Abbot Springs</td>\n",
                            "      <td>AL</td>\n",
                            "      <td>NaN</td>\n",
                            "    </tr>\n",
                            "  </tbody>\n",
                            "</table>\n",
                            "</div>"
                        ],
                        "text/plain": [
                            "            City     AccentCity Region  Population\n",
                            "0         abanda         Abanda     AL         NaN\n",
                            "1      abbeville      Abbeville     AL         NaN\n",
                            "2  abbot springs  Abbot Springs     AL         NaN"
                        ]
                    },
                    "execution_count": 5,
                    "metadata": {},
                    "output_type": "execute_result"
                }
            ],
            "source": [
                "df_to_write = us_cities_df.drop(\n",
                "    columns=[\"Country\", \"Latitude\", \"Longitude\"], inplace=False\n",
                ")\n",
                "df_to_write[:3]"
            ]
        },
        {
            "cell_type": "code",
            "execution_count": 6,
            "metadata": {},
            "outputs": [],
            "source": [
                "import redis"
            ]
        },
        {
            "cell_type": "code",
            "execution_count": 19,
            "metadata": {},
            "outputs": [],
            "source": [
                "redis_client: redis.StrictRedis = redis.Redis(host=\"localhost\", port=6379, db=0)"
            ]
        },
        {
            "cell_type": "code",
            "execution_count": null,
            "metadata": {},
            "outputs": [],
            "source": [
                "# Bulk insert function\n",
                "from time import perf_counter\n",
                "\n",
                "\n",
                "def insert_into_redis(df, redis_client):\n",
                "    start = perf_counter()\n",
                "    pipeline = redis_client.pipeline()\n",
                "    # Compute the pipeline for each row in the DataFrame\n",
                "    for _, row in df.iterrows():\n",
                "        # Define the unique key for the city with state included\n",
                "        city_key = f\"city:{row['City']}:{row['Region']}\"\n",
                "\n",
                "        pipeline.hset(city_key, \"state\", row[\"Region\"])\n",
                "        pipeline.hset(city_key, \"population\", row[\"Population\"])\n",
                "\n",
                "        # Add the city name to the state's Set for quick state-based lookups\n",
                "        state_key = f\"state:{row['Region']}\"\n",
                "        pipeline.sadd(state_key, row[\"City\"])\n",
                "\n",
                "    pipeline.execute()\n",
                "    end = perf_counter()\n",
                "    print(f\"Time taken to insert {len(df)} records: {end-start} seconds\")"
            ]
        },
        {
            "cell_type": "code",
            "execution_count": null,
            "metadata": {},
            "outputs": [
                {
                    "name": "stdout",
                    "output_type": "stream",
                    "text": [
                        "Time taken to insert 141989 records: 5.413582707988098 seconds\n"
                    ]
                }
            ],
            "source": [
                "insert_into_redis(df_to_write, redis_client)"
            ]
        },
        {
            "cell_type": "code",
            "execution_count": 36,
            "metadata": {},
            "outputs": [
                {
                    "data": {
                        "text/plain": [
                            "array(['AL', 'AK', 'AS', 'AZ', 'AR', 'CA', 'CO', 'CT', 'DE', 'DC', 'FL',\n",
                            "       'GA', 'GU', 'HI', 'ID', 'IL', 'IN', 'IA', 'KS', 'KY', 'LA', 'ME',\n",
                            "       'MH', 'MD', 'MA', 'MI', 'FM', 'MN', 'MS', 'MO', 'MT', 'NE', 'NV',\n",
                            "       'NH', 'NJ', 'NM', 'NY', 'NC', 'ND', 'MP', 'OH', 'OK', 'OR', 'PW',\n",
                            "       'PA', 'PR', 'RI', 'SC', 'SD', 'TN', 'TX', 'UT', 'VT', 'VI', 'VA',\n",
                            "       'WA', 'WV', 'WI', 'WY'], dtype=object)"
                        ]
                    },
                    "execution_count": 36,
                    "metadata": {},
                    "output_type": "execute_result"
                }
            ],
            "source": [
                "df_to_write[\"Region\"].unique()"
            ]
        },
        {
            "cell_type": "code",
            "execution_count": 39,
            "metadata": {},
            "outputs": [
                {
                    "data": {
                        "text/html": [
                            "<div>\n",
                            "<style scoped>\n",
                            "    .dataframe tbody tr th:only-of-type {\n",
                            "        vertical-align: middle;\n",
                            "    }\n",
                            "\n",
                            "    .dataframe tbody tr th {\n",
                            "        vertical-align: top;\n",
                            "    }\n",
                            "\n",
                            "    .dataframe thead th {\n",
                            "        text-align: right;\n",
                            "    }\n",
                            "</style>\n",
                            "<table border=\"1\" class=\"dataframe\">\n",
                            "  <thead>\n",
                            "    <tr style=\"text-align: right;\">\n",
                            "      <th></th>\n",
                            "      <th>City</th>\n",
                            "      <th>AccentCity</th>\n",
                            "      <th>Region</th>\n",
                            "      <th>Population</th>\n",
                            "    </tr>\n",
                            "  </thead>\n",
                            "  <tbody>\n",
                            "    <tr>\n",
                            "      <th>10160</th>\n",
                            "      <td>adelanto</td>\n",
                            "      <td>Adelanto</td>\n",
                            "      <td>CA</td>\n",
                            "      <td>21955.0</td>\n",
                            "    </tr>\n",
                            "    <tr>\n",
                            "      <th>10170</th>\n",
                            "      <td>agoura hills</td>\n",
                            "      <td>Agoura Hills</td>\n",
                            "      <td>CA</td>\n",
                            "      <td>22222.0</td>\n",
                            "    </tr>\n",
                            "    <tr>\n",
                            "      <th>10183</th>\n",
                            "      <td>alameda</td>\n",
                            "      <td>Alameda</td>\n",
                            "      <td>CA</td>\n",
                            "      <td>70443.0</td>\n",
                            "    </tr>\n",
                            "    <tr>\n",
                            "      <th>10185</th>\n",
                            "      <td>alamo</td>\n",
                            "      <td>Alamo</td>\n",
                            "      <td>CA</td>\n",
                            "      <td>17764.0</td>\n",
                            "    </tr>\n",
                            "    <tr>\n",
                            "      <th>10189</th>\n",
                            "      <td>albany</td>\n",
                            "      <td>Albany</td>\n",
                            "      <td>CA</td>\n",
                            "      <td>16144.0</td>\n",
                            "    </tr>\n",
                            "    <tr>\n",
                            "      <th>10203</th>\n",
                            "      <td>alhambra</td>\n",
                            "      <td>Alhambra</td>\n",
                            "      <td>CA</td>\n",
                            "      <td>88386.0</td>\n",
                            "    </tr>\n",
                            "    <tr>\n",
                            "      <th>10208</th>\n",
                            "      <td>aliso viejo</td>\n",
                            "      <td>Aliso Viejo</td>\n",
                            "      <td>CA</td>\n",
                            "      <td>41314.0</td>\n",
                            "    </tr>\n",
                            "    <tr>\n",
                            "      <th>10220</th>\n",
                            "      <td>alondra park</td>\n",
                            "      <td>Alondra Park</td>\n",
                            "      <td>CA</td>\n",
                            "      <td>8028.0</td>\n",
                            "    </tr>\n",
                            "    <tr>\n",
                            "      <th>10223</th>\n",
                            "      <td>alpine</td>\n",
                            "      <td>Alpine</td>\n",
                            "      <td>CA</td>\n",
                            "      <td>15391.0</td>\n",
                            "    </tr>\n",
                            "    <tr>\n",
                            "      <th>10239</th>\n",
                            "      <td>altadena</td>\n",
                            "      <td>Altadena</td>\n",
                            "      <td>CA</td>\n",
                            "      <td>43226.0</td>\n",
                            "    </tr>\n",
                            "  </tbody>\n",
                            "</table>\n",
                            "</div>"
                        ],
                        "text/plain": [
                            "               City    AccentCity Region  Population\n",
                            "10160      adelanto      Adelanto     CA     21955.0\n",
                            "10170  agoura hills  Agoura Hills     CA     22222.0\n",
                            "10183       alameda       Alameda     CA     70443.0\n",
                            "10185         alamo         Alamo     CA     17764.0\n",
                            "10189        albany        Albany     CA     16144.0\n",
                            "10203      alhambra      Alhambra     CA     88386.0\n",
                            "10208   aliso viejo   Aliso Viejo     CA     41314.0\n",
                            "10220  alondra park  Alondra Park     CA      8028.0\n",
                            "10223        alpine        Alpine     CA     15391.0\n",
                            "10239      altadena      Altadena     CA     43226.0"
                        ]
                    },
                    "execution_count": 39,
                    "metadata": {},
                    "output_type": "execute_result"
                }
            ],
            "source": [
                "df_to_write[df_to_write[\"Region\"] == \"CA\"].dropna(how=\"any\")[:10]"
            ]
        },
        {
            "cell_type": "code",
            "execution_count": 40,
            "metadata": {},
            "outputs": [
                {
                    "data": {
                        "text/plain": [
                            "True"
                        ]
                    },
                    "execution_count": 40,
                    "metadata": {},
                    "output_type": "execute_result"
                }
            ],
            "source": [
                "redis_client.sismember(\"state:CA\", \"los angeles\")"
            ]
        },
        {
            "cell_type": "code",
            "execution_count": 49,
            "metadata": {},
            "outputs": [
                {
                    "data": {
                        "text/plain": [
                            "[b'north star ranch', b'apex', b'gateley', b'robinsons corner', b'austin']"
                        ]
                    },
                    "execution_count": 49,
                    "metadata": {},
                    "output_type": "execute_result"
                }
            ],
            "source": [
                "redis_client.srandmember(\"state:CA\", number=5)"
            ]
        },
        {
            "cell_type": "code",
            "execution_count": 24,
            "metadata": {},
            "outputs": [
                {
                    "data": {
                        "text/html": [
                            "<div>\n",
                            "<style scoped>\n",
                            "    .dataframe tbody tr th:only-of-type {\n",
                            "        vertical-align: middle;\n",
                            "    }\n",
                            "\n",
                            "    .dataframe tbody tr th {\n",
                            "        vertical-align: top;\n",
                            "    }\n",
                            "\n",
                            "    .dataframe thead th {\n",
                            "        text-align: right;\n",
                            "    }\n",
                            "</style>\n",
                            "<table border=\"1\" class=\"dataframe\">\n",
                            "  <thead>\n",
                            "    <tr style=\"text-align: right;\">\n",
                            "      <th></th>\n",
                            "      <th>City</th>\n",
                            "      <th>AccentCity</th>\n",
                            "      <th>Region</th>\n",
                            "      <th>Population</th>\n",
                            "    </tr>\n",
                            "  </thead>\n",
                            "  <tbody>\n",
                            "    <tr>\n",
                            "      <th>0</th>\n",
                            "      <td>abanda</td>\n",
                            "      <td>Abanda</td>\n",
                            "      <td>AL</td>\n",
                            "      <td>NaN</td>\n",
                            "    </tr>\n",
                            "    <tr>\n",
                            "      <th>1</th>\n",
                            "      <td>abbeville</td>\n",
                            "      <td>Abbeville</td>\n",
                            "      <td>AL</td>\n",
                            "      <td>NaN</td>\n",
                            "    </tr>\n",
                            "    <tr>\n",
                            "      <th>2</th>\n",
                            "      <td>abbot springs</td>\n",
                            "      <td>Abbot Springs</td>\n",
                            "      <td>AL</td>\n",
                            "      <td>NaN</td>\n",
                            "    </tr>\n",
                            "  </tbody>\n",
                            "</table>\n",
                            "</div>"
                        ],
                        "text/plain": [
                            "            City     AccentCity Region  Population\n",
                            "0         abanda         Abanda     AL         NaN\n",
                            "1      abbeville      Abbeville     AL         NaN\n",
                            "2  abbot springs  Abbot Springs     AL         NaN"
                        ]
                    },
                    "execution_count": 24,
                    "metadata": {},
                    "output_type": "execute_result"
                }
            ],
            "source": [
                "df_to_write[:3]"
            ]
        },
        {
            "cell_type": "code",
            "execution_count": null,
            "metadata": {},
            "outputs": [],
            "source": [
                "unique_states = df_to_write[\"Region\"].unique()\n",
                "\n",
                "# Save unique states into Redis HSET\n",
                "pipeline = redis_client.pipeline()\n",
                "for state in unique_states:\n",
                "    pipeline.sadd(\"states\", state)\n",
                "pipeline.execute()"
            ]
        }
    ],
    "metadata": {
        "kernelspec": {
            "display_name": "3.10",
            "language": "python",
            "name": "python3"
        },
        "language_info": {
            "codemirror_mode": {
                "name": "ipython",
                "version": 3
            },
            "file_extension": ".py",
            "mimetype": "text/x-python",
            "name": "python",
            "nbconvert_exporter": "python",
            "pygments_lexer": "ipython3",
            "version": "3.10.14"
        }
    },
    "nbformat": 4,
    "nbformat_minor": 2
}